{
  "nbformat": 4,
  "nbformat_minor": 0,
  "metadata": {
    "colab": {
      "provenance": []
    },
    "kernelspec": {
      "name": "python3",
      "display_name": "Python 3"
    },
    "language_info": {
      "name": "python"
    }
  },
  "cells": [
    {
      "cell_type": "code",
      "execution_count": 26,
      "metadata": {
        "id": "5NBjuiPqBaSf"
      },
      "outputs": [],
      "source": [
        "import pandas as pd\n",
        "import numpy as np\n",
        "import time"
      ]
    },
    {
      "cell_type": "code",
      "source": [
        "import nltk\n",
        "nltk.download('stopwords')\n",
        "nltk.download('punkt')\n",
        "nltk.download('averaged_perceptron_tagger')\n",
        "nltk.download('wordnet')\n",
        "stop_words = nltk.corpus.stopwords.words(\"english\")\n",
        "for word in ['what', 'how', 'where', 'who', 'which'] :\n",
        "    stop_words.append(word)\n",
        "from string import punctuation"
      ],
      "metadata": {
        "colab": {
          "base_uri": "https://localhost:8080/"
        },
        "id": "ImNTKZ4uDeFw",
        "outputId": "4c3aaea6-93ac-411e-9aeb-bc851f364169"
      },
      "execution_count": 2,
      "outputs": [
        {
          "output_type": "stream",
          "name": "stderr",
          "text": [
            "[nltk_data] Downloading package stopwords to /root/nltk_data...\n",
            "[nltk_data]   Unzipping corpora/stopwords.zip.\n",
            "[nltk_data] Downloading package punkt to /root/nltk_data...\n",
            "[nltk_data]   Unzipping tokenizers/punkt.zip.\n",
            "[nltk_data] Downloading package averaged_perceptron_tagger to\n",
            "[nltk_data]     /root/nltk_data...\n",
            "[nltk_data]   Unzipping taggers/averaged_perceptron_tagger.zip.\n",
            "[nltk_data] Downloading package wordnet to /root/nltk_data...\n"
          ]
        }
      ]
    },
    {
      "cell_type": "code",
      "source": [
        "import spacy"
      ],
      "metadata": {
        "id": "XKdYg2A6Dh-p"
      },
      "execution_count": 3,
      "outputs": []
    },
    {
      "cell_type": "code",
      "source": [
        "from sklearn.model_selection import train_test_split\n",
        "from sklearn.metrics import jaccard_score\n",
        "from sklearn.linear_model import LogisticRegression"
      ],
      "metadata": {
        "id": "M1_43OglDk5T"
      },
      "execution_count": 4,
      "outputs": []
    },
    {
      "cell_type": "code",
      "source": [
        "from sklearn.multioutput import MultiOutputClassifier"
      ],
      "metadata": {
        "id": "rOPSNaY5DvMh"
      },
      "execution_count": 5,
      "outputs": []
    },
    {
      "cell_type": "code",
      "source": [
        "file = open(\"/content/top_10_tags.txt\", \"r\")\n",
        "top_10_tags = file.read()\n",
        "top_10_tags = list(top_10_tags.split('\\n')[:-1])\n",
        "file.close()"
      ],
      "metadata": {
        "id": "ScBvL4EoDxNM"
      },
      "execution_count": 13,
      "outputs": []
    },
    {
      "cell_type": "code",
      "source": [
        "data = pd.read_csv(\"/content/data.csv\")"
      ],
      "metadata": {
        "id": "JGklzATnDzSY"
      },
      "execution_count": 16,
      "outputs": []
    },
    {
      "cell_type": "code",
      "source": [
        "text = data['Title']\n",
        "text_spl = text.sample(frac = 0.25).reset_index()\n",
        "text_spl.head()"
      ],
      "metadata": {
        "colab": {
          "base_uri": "https://localhost:8080/",
          "height": 204
        },
        "id": "YkZFMal3D_Ye",
        "outputId": "f918f932-c594-45c3-9496-3d5692ebf8d7"
      },
      "execution_count": 17,
      "outputs": [
        {
          "output_type": "execute_result",
          "data": {
            "text/plain": [
              "   index                                              Title\n",
              "0   7188         how to access downloads folder in android?\n",
              "1  20129  What's the equivalent of Windows' QueryPerform...\n",
              "2  20625  Using hibernate criteria, is there a way to es...\n",
              "3  28125  Possible to create a single multi-type collect...\n",
              "4  32800  How to see output of print statements when scr..."
            ],
            "text/html": [
              "\n",
              "  <div id=\"df-55275c89-b407-4f51-8cc1-0637a07ca296\">\n",
              "    <div class=\"colab-df-container\">\n",
              "      <div>\n",
              "<style scoped>\n",
              "    .dataframe tbody tr th:only-of-type {\n",
              "        vertical-align: middle;\n",
              "    }\n",
              "\n",
              "    .dataframe tbody tr th {\n",
              "        vertical-align: top;\n",
              "    }\n",
              "\n",
              "    .dataframe thead th {\n",
              "        text-align: right;\n",
              "    }\n",
              "</style>\n",
              "<table border=\"1\" class=\"dataframe\">\n",
              "  <thead>\n",
              "    <tr style=\"text-align: right;\">\n",
              "      <th></th>\n",
              "      <th>index</th>\n",
              "      <th>Title</th>\n",
              "    </tr>\n",
              "  </thead>\n",
              "  <tbody>\n",
              "    <tr>\n",
              "      <th>0</th>\n",
              "      <td>7188</td>\n",
              "      <td>how to access downloads folder in android?</td>\n",
              "    </tr>\n",
              "    <tr>\n",
              "      <th>1</th>\n",
              "      <td>20129</td>\n",
              "      <td>What's the equivalent of Windows' QueryPerform...</td>\n",
              "    </tr>\n",
              "    <tr>\n",
              "      <th>2</th>\n",
              "      <td>20625</td>\n",
              "      <td>Using hibernate criteria, is there a way to es...</td>\n",
              "    </tr>\n",
              "    <tr>\n",
              "      <th>3</th>\n",
              "      <td>28125</td>\n",
              "      <td>Possible to create a single multi-type collect...</td>\n",
              "    </tr>\n",
              "    <tr>\n",
              "      <th>4</th>\n",
              "      <td>32800</td>\n",
              "      <td>How to see output of print statements when scr...</td>\n",
              "    </tr>\n",
              "  </tbody>\n",
              "</table>\n",
              "</div>\n",
              "      <button class=\"colab-df-convert\" onclick=\"convertToInteractive('df-55275c89-b407-4f51-8cc1-0637a07ca296')\"\n",
              "              title=\"Convert this dataframe to an interactive table.\"\n",
              "              style=\"display:none;\">\n",
              "        \n",
              "  <svg xmlns=\"http://www.w3.org/2000/svg\" height=\"24px\"viewBox=\"0 0 24 24\"\n",
              "       width=\"24px\">\n",
              "    <path d=\"M0 0h24v24H0V0z\" fill=\"none\"/>\n",
              "    <path d=\"M18.56 5.44l.94 2.06.94-2.06 2.06-.94-2.06-.94-.94-2.06-.94 2.06-2.06.94zm-11 1L8.5 8.5l.94-2.06 2.06-.94-2.06-.94L8.5 2.5l-.94 2.06-2.06.94zm10 10l.94 2.06.94-2.06 2.06-.94-2.06-.94-.94-2.06-.94 2.06-2.06.94z\"/><path d=\"M17.41 7.96l-1.37-1.37c-.4-.4-.92-.59-1.43-.59-.52 0-1.04.2-1.43.59L10.3 9.45l-7.72 7.72c-.78.78-.78 2.05 0 2.83L4 21.41c.39.39.9.59 1.41.59.51 0 1.02-.2 1.41-.59l7.78-7.78 2.81-2.81c.8-.78.8-2.07 0-2.86zM5.41 20L4 18.59l7.72-7.72 1.47 1.35L5.41 20z\"/>\n",
              "  </svg>\n",
              "      </button>\n",
              "      \n",
              "  <style>\n",
              "    .colab-df-container {\n",
              "      display:flex;\n",
              "      flex-wrap:wrap;\n",
              "      gap: 12px;\n",
              "    }\n",
              "\n",
              "    .colab-df-convert {\n",
              "      background-color: #E8F0FE;\n",
              "      border: none;\n",
              "      border-radius: 50%;\n",
              "      cursor: pointer;\n",
              "      display: none;\n",
              "      fill: #1967D2;\n",
              "      height: 32px;\n",
              "      padding: 0 0 0 0;\n",
              "      width: 32px;\n",
              "    }\n",
              "\n",
              "    .colab-df-convert:hover {\n",
              "      background-color: #E2EBFA;\n",
              "      box-shadow: 0px 1px 2px rgba(60, 64, 67, 0.3), 0px 1px 3px 1px rgba(60, 64, 67, 0.15);\n",
              "      fill: #174EA6;\n",
              "    }\n",
              "\n",
              "    [theme=dark] .colab-df-convert {\n",
              "      background-color: #3B4455;\n",
              "      fill: #D2E3FC;\n",
              "    }\n",
              "\n",
              "    [theme=dark] .colab-df-convert:hover {\n",
              "      background-color: #434B5C;\n",
              "      box-shadow: 0px 1px 3px 1px rgba(0, 0, 0, 0.15);\n",
              "      filter: drop-shadow(0px 1px 2px rgba(0, 0, 0, 0.3));\n",
              "      fill: #FFFFFF;\n",
              "    }\n",
              "  </style>\n",
              "\n",
              "      <script>\n",
              "        const buttonEl =\n",
              "          document.querySelector('#df-55275c89-b407-4f51-8cc1-0637a07ca296 button.colab-df-convert');\n",
              "        buttonEl.style.display =\n",
              "          google.colab.kernel.accessAllowed ? 'block' : 'none';\n",
              "\n",
              "        async function convertToInteractive(key) {\n",
              "          const element = document.querySelector('#df-55275c89-b407-4f51-8cc1-0637a07ca296');\n",
              "          const dataTable =\n",
              "            await google.colab.kernel.invokeFunction('convertToInteractive',\n",
              "                                                     [key], {});\n",
              "          if (!dataTable) return;\n",
              "\n",
              "          const docLinkHtml = 'Like what you see? Visit the ' +\n",
              "            '<a target=\"_blank\" href=https://colab.research.google.com/notebooks/data_table.ipynb>data table notebook</a>'\n",
              "            + ' to learn more about interactive tables.';\n",
              "          element.innerHTML = '';\n",
              "          dataTable['output_type'] = 'display_data';\n",
              "          await google.colab.output.renderOutput(dataTable, element);\n",
              "          const docLink = document.createElement('div');\n",
              "          docLink.innerHTML = docLinkHtml;\n",
              "          element.appendChild(docLink);\n",
              "        }\n",
              "      </script>\n",
              "    </div>\n",
              "  </div>\n",
              "  "
            ]
          },
          "metadata": {},
          "execution_count": 17
        }
      ]
    },
    {
      "cell_type": "code",
      "source": [
        "def preprocess(text) :\n",
        "\n",
        "    \"\"\"\" Nettoyage du texte :\n",
        "    passage au minuscule\n",
        "    suppression du code éventuel du texte que l'on stocke dans une variable 'code'\n",
        "    suppression et du contenu des balises autres que p (script, alt, ...)\n",
        "    suppression des balises html\n",
        "    conservation des textes labellisés par les top 10 tags uniquement\n",
        "    suppression de la ponctuation, des chiffres,\n",
        "    et des stopwords\n",
        "    lemmatisation par spaCy \"\"\"\n",
        "    \n",
        "    text = text.lower()\n",
        "    \n",
        "    for i in range(1, len(text)) :\n",
        "        if text[i-1] == 'c' and text[i] == '#' :\n",
        "            text = text.replace(text[i], 'sharp')\n",
        "    \n",
        "    token_list = nltk.word_tokenize(text)\n",
        "    \n",
        "    new_text = []\n",
        "    \n",
        "    for token in token_list :\n",
        "        if token in top_10_tags :\n",
        "            new_text.append(token)\n",
        "        elif token not in stop_words :\n",
        "            for char in token :\n",
        "                if char in punctuation or char.isdigit() :\n",
        "                    token = token.replace(char, '')\n",
        "            new_text.append(token)\n",
        "    \n",
        "    lem = nltk.stem.WordNetLemmatizer()\n",
        "    \n",
        "    for token in new_text :\n",
        "        if nltk.pos_tag([token])[0][1].startswith('V') :\n",
        "            index = new_text.index(token)\n",
        "            token_lem = lem.lemmatize(token, pos = 'v')\n",
        "            new_text[index] = new_text[index].replace(token, token_lem)\n",
        "            \n",
        "    new_text = ' '.join(new_text)\n",
        "\n",
        "    return new_text"
      ],
      "metadata": {
        "id": "4s2LmnhiWoXV"
      },
      "execution_count": 18,
      "outputs": []
    },
    {
      "cell_type": "code",
      "source": [
        "print(\"Textes bruts :\")\n",
        "print(\"\")\n",
        "print(text_spl.loc[:11, 'Title'])\n",
        "print(\"---------------------------------------\")\n",
        "print(\"Textes nettoyés :\")\n",
        "print(\"\")\n",
        "print(text_spl.loc[:11, 'Title'].apply(preprocess))"
      ],
      "metadata": {
        "colab": {
          "base_uri": "https://localhost:8080/"
        },
        "id": "rH3gUFzCWuQE",
        "outputId": "5da626c3-0e76-4772-f4ab-76ef3d3fb60c"
      },
      "execution_count": 19,
      "outputs": [
        {
          "output_type": "stream",
          "name": "stdout",
          "text": [
            "Textes bruts :\n",
            "\n",
            "0            how to access downloads folder in android?\n",
            "1     What's the equivalent of Windows' QueryPerform...\n",
            "2     Using hibernate criteria, is there a way to es...\n",
            "3     Possible to create a single multi-type collect...\n",
            "4     How to see output of print statements when scr...\n",
            "5     How to horizontally center a floating element ...\n",
            "6     Django models - how to filter out duplicate va...\n",
            "7                          An analog to rnorm in python\n",
            "8     How does \"get_user_pages\" work (For linux driver)\n",
            "9     Django: How to access URL regex parameters ins...\n",
            "10    How to achieve desired results when using the ...\n",
            "11    Generating a 'Hello, World!' class with the Ja...\n",
            "Name: Title, dtype: object\n",
            "---------------------------------------\n",
            "Textes nettoyés :\n",
            "\n",
            "0                      access downloads folder android \n",
            "1     s equivalent windows  queryperformancecounter ...\n",
            "2     use hibernate criteria  way escape special cha...\n",
            "3     possible create single multitype collection mu...\n",
            "4      see output print statements scrapy logger enable\n",
            "5     horizontally center float element variable width \n",
            "6       django models  filter duplicate values pk fact \n",
            "7                                   analog rnorm python\n",
            "8                     getuserpages  work  linux driver \n",
            "9     django  access url regex parameters inside mid...\n",
            "10    achieve desire results use subprocees popensen...\n",
            "11       generate hello  world   class java asm library\n",
            "Name: Title, dtype: object\n"
          ]
        }
      ]
    },
    {
      "cell_type": "code",
      "source": [
        "%%time\n",
        "text_clean = text_spl['Title'].apply(preprocess)"
      ],
      "metadata": {
        "colab": {
          "base_uri": "https://localhost:8080/"
        },
        "id": "U9qVl_hxWw4g",
        "outputId": "ef666116-3354-49ff-ffc3-385a3de0ece7"
      },
      "execution_count": 20,
      "outputs": [
        {
          "output_type": "stream",
          "name": "stdout",
          "text": [
            "CPU times: user 15.6 s, sys: 744 ms, total: 16.3 s\n",
            "Wall time: 17.4 s\n"
          ]
        }
      ]
    },
    {
      "cell_type": "code",
      "source": [
        "text_spl['Title_clean'] = text_clean"
      ],
      "metadata": {
        "id": "vUdzNQHrW14P"
      },
      "execution_count": 21,
      "outputs": []
    },
    {
      "cell_type": "code",
      "source": [
        "data = pd.merge(data.iloc[text_spl['index']], text_spl)[['Title', 'Title_clean', 'Tags']]\n",
        "data.head(3)"
      ],
      "metadata": {
        "colab": {
          "base_uri": "https://localhost:8080/",
          "height": 142
        },
        "id": "37ruwyv4W4Yn",
        "outputId": "a04adc29-2e32-4733-e6bf-b51ec8de7f3b"
      },
      "execution_count": 22,
      "outputs": [
        {
          "output_type": "execute_result",
          "data": {
            "text/plain": [
              "                                               Title  \\\n",
              "0         how to access downloads folder in android?   \n",
              "1  What's the equivalent of Windows' QueryPerform...   \n",
              "2  Using hibernate criteria, is there a way to es...   \n",
              "\n",
              "                                         Title_clean                 Tags  \n",
              "0                   access downloads folder android   ['java', 'android']  \n",
              "1  s equivalent windows  queryperformancecounter ...   ['c++', 'windows']  \n",
              "2  use hibernate criteria  way escape special cha...             ['java']  "
            ],
            "text/html": [
              "\n",
              "  <div id=\"df-f2533e0a-851c-4246-8d5e-6c158f70d161\">\n",
              "    <div class=\"colab-df-container\">\n",
              "      <div>\n",
              "<style scoped>\n",
              "    .dataframe tbody tr th:only-of-type {\n",
              "        vertical-align: middle;\n",
              "    }\n",
              "\n",
              "    .dataframe tbody tr th {\n",
              "        vertical-align: top;\n",
              "    }\n",
              "\n",
              "    .dataframe thead th {\n",
              "        text-align: right;\n",
              "    }\n",
              "</style>\n",
              "<table border=\"1\" class=\"dataframe\">\n",
              "  <thead>\n",
              "    <tr style=\"text-align: right;\">\n",
              "      <th></th>\n",
              "      <th>Title</th>\n",
              "      <th>Title_clean</th>\n",
              "      <th>Tags</th>\n",
              "    </tr>\n",
              "  </thead>\n",
              "  <tbody>\n",
              "    <tr>\n",
              "      <th>0</th>\n",
              "      <td>how to access downloads folder in android?</td>\n",
              "      <td>access downloads folder android</td>\n",
              "      <td>['java', 'android']</td>\n",
              "    </tr>\n",
              "    <tr>\n",
              "      <th>1</th>\n",
              "      <td>What's the equivalent of Windows' QueryPerform...</td>\n",
              "      <td>s equivalent windows  queryperformancecounter ...</td>\n",
              "      <td>['c++', 'windows']</td>\n",
              "    </tr>\n",
              "    <tr>\n",
              "      <th>2</th>\n",
              "      <td>Using hibernate criteria, is there a way to es...</td>\n",
              "      <td>use hibernate criteria  way escape special cha...</td>\n",
              "      <td>['java']</td>\n",
              "    </tr>\n",
              "  </tbody>\n",
              "</table>\n",
              "</div>\n",
              "      <button class=\"colab-df-convert\" onclick=\"convertToInteractive('df-f2533e0a-851c-4246-8d5e-6c158f70d161')\"\n",
              "              title=\"Convert this dataframe to an interactive table.\"\n",
              "              style=\"display:none;\">\n",
              "        \n",
              "  <svg xmlns=\"http://www.w3.org/2000/svg\" height=\"24px\"viewBox=\"0 0 24 24\"\n",
              "       width=\"24px\">\n",
              "    <path d=\"M0 0h24v24H0V0z\" fill=\"none\"/>\n",
              "    <path d=\"M18.56 5.44l.94 2.06.94-2.06 2.06-.94-2.06-.94-.94-2.06-.94 2.06-2.06.94zm-11 1L8.5 8.5l.94-2.06 2.06-.94-2.06-.94L8.5 2.5l-.94 2.06-2.06.94zm10 10l.94 2.06.94-2.06 2.06-.94-2.06-.94-.94-2.06-.94 2.06-2.06.94z\"/><path d=\"M17.41 7.96l-1.37-1.37c-.4-.4-.92-.59-1.43-.59-.52 0-1.04.2-1.43.59L10.3 9.45l-7.72 7.72c-.78.78-.78 2.05 0 2.83L4 21.41c.39.39.9.59 1.41.59.51 0 1.02-.2 1.41-.59l7.78-7.78 2.81-2.81c.8-.78.8-2.07 0-2.86zM5.41 20L4 18.59l7.72-7.72 1.47 1.35L5.41 20z\"/>\n",
              "  </svg>\n",
              "      </button>\n",
              "      \n",
              "  <style>\n",
              "    .colab-df-container {\n",
              "      display:flex;\n",
              "      flex-wrap:wrap;\n",
              "      gap: 12px;\n",
              "    }\n",
              "\n",
              "    .colab-df-convert {\n",
              "      background-color: #E8F0FE;\n",
              "      border: none;\n",
              "      border-radius: 50%;\n",
              "      cursor: pointer;\n",
              "      display: none;\n",
              "      fill: #1967D2;\n",
              "      height: 32px;\n",
              "      padding: 0 0 0 0;\n",
              "      width: 32px;\n",
              "    }\n",
              "\n",
              "    .colab-df-convert:hover {\n",
              "      background-color: #E2EBFA;\n",
              "      box-shadow: 0px 1px 2px rgba(60, 64, 67, 0.3), 0px 1px 3px 1px rgba(60, 64, 67, 0.15);\n",
              "      fill: #174EA6;\n",
              "    }\n",
              "\n",
              "    [theme=dark] .colab-df-convert {\n",
              "      background-color: #3B4455;\n",
              "      fill: #D2E3FC;\n",
              "    }\n",
              "\n",
              "    [theme=dark] .colab-df-convert:hover {\n",
              "      background-color: #434B5C;\n",
              "      box-shadow: 0px 1px 3px 1px rgba(0, 0, 0, 0.15);\n",
              "      filter: drop-shadow(0px 1px 2px rgba(0, 0, 0, 0.3));\n",
              "      fill: #FFFFFF;\n",
              "    }\n",
              "  </style>\n",
              "\n",
              "      <script>\n",
              "        const buttonEl =\n",
              "          document.querySelector('#df-f2533e0a-851c-4246-8d5e-6c158f70d161 button.colab-df-convert');\n",
              "        buttonEl.style.display =\n",
              "          google.colab.kernel.accessAllowed ? 'block' : 'none';\n",
              "\n",
              "        async function convertToInteractive(key) {\n",
              "          const element = document.querySelector('#df-f2533e0a-851c-4246-8d5e-6c158f70d161');\n",
              "          const dataTable =\n",
              "            await google.colab.kernel.invokeFunction('convertToInteractive',\n",
              "                                                     [key], {});\n",
              "          if (!dataTable) return;\n",
              "\n",
              "          const docLinkHtml = 'Like what you see? Visit the ' +\n",
              "            '<a target=\"_blank\" href=https://colab.research.google.com/notebooks/data_table.ipynb>data table notebook</a>'\n",
              "            + ' to learn more about interactive tables.';\n",
              "          element.innerHTML = '';\n",
              "          dataTable['output_type'] = 'display_data';\n",
              "          await google.colab.output.renderOutput(dataTable, element);\n",
              "          const docLink = document.createElement('div');\n",
              "          docLink.innerHTML = docLinkHtml;\n",
              "          element.appendChild(docLink);\n",
              "        }\n",
              "      </script>\n",
              "    </div>\n",
              "  </div>\n",
              "  "
            ]
          },
          "metadata": {},
          "execution_count": 22
        }
      ]
    },
    {
      "cell_type": "code",
      "source": [
        "import tensorflow_hub as hub\n",
        "\n",
        "embed = hub.load(\"https://tfhub.dev/google/universal-sentence-encoder/4\")"
      ],
      "metadata": {
        "id": "RmkNrbrYXXV4"
      },
      "execution_count": 28,
      "outputs": []
    },
    {
      "cell_type": "code",
      "source": [
        "def feature_USE_fct(sentences, b_size) :\n",
        "    batch_size = b_size\n",
        "    time1 = time.time()\n",
        "\n",
        "    for step in range(len(sentences)//batch_size) :\n",
        "        idx = step*batch_size\n",
        "        feat = embed(sentences[idx:idx+batch_size])\n",
        "\n",
        "        if step ==0 :\n",
        "            features = feat\n",
        "        else :\n",
        "            features = np.concatenate((features,feat))\n",
        "\n",
        "    time2 = np.round(time.time() - time1,0)\n",
        "    return features"
      ],
      "metadata": {
        "id": "SRaIh21XW6aC"
      },
      "execution_count": 23,
      "outputs": []
    },
    {
      "cell_type": "code",
      "source": [
        "batch_size = 10\n",
        "sentences = data['Title_clean'].to_list()"
      ],
      "metadata": {
        "id": "Azx1J2v_XAwO"
      },
      "execution_count": 24,
      "outputs": []
    },
    {
      "cell_type": "code",
      "source": [
        "features_USE = feature_USE_fct(sentences, batch_size)"
      ],
      "metadata": {
        "id": "V-4SkyDGXHuE"
      },
      "execution_count": 29,
      "outputs": []
    },
    {
      "cell_type": "code",
      "source": [
        "data = data.join(pd.DataFrame(features_USE))"
      ],
      "metadata": {
        "id": "nCOBWbE_XJiF"
      },
      "execution_count": 32,
      "outputs": []
    },
    {
      "cell_type": "code",
      "source": [
        "for tag in top_10_tags :\n",
        "    data['is' + tag] = 0\n",
        "    index = 0\n",
        "    for doc_tag in data['Tags'] :\n",
        "        if not pd.isnull(doc_tag) :\n",
        "          if tag in doc_tag :\n",
        "            data.loc[index, 'is' + tag] = 1\n",
        "        index += 1"
      ],
      "metadata": {
        "id": "VnH6ePuaPG2z"
      },
      "execution_count": 85,
      "outputs": []
    },
    {
      "cell_type": "code",
      "source": [
        "data"
      ],
      "metadata": {
        "colab": {
          "base_uri": "https://localhost:8080/",
          "height": 670
        },
        "id": "zYUP0kZOSsgE",
        "outputId": "e4f60b81-ff34-4b88-bb9a-ea34ee9f3851"
      },
      "execution_count": 86,
      "outputs": [
        {
          "output_type": "execute_result",
          "data": {
            "text/plain": [
              "                                                   Title  \\\n",
              "0             how to access downloads folder in android?   \n",
              "1      What's the equivalent of Windows' QueryPerform...   \n",
              "2      Using hibernate criteria, is there a way to es...   \n",
              "3      Possible to create a single multi-type collect...   \n",
              "4      How to see output of print statements when scr...   \n",
              "...                                                  ...   \n",
              "10573  List throws ConcurrentModificationException bu...   \n",
              "10574  How to call a local web service from an Androi...   \n",
              "10575  ReSharper giving C# 3.0 Code Inspection Warnin...   \n",
              "10576  OpenGL fbo blitting inconsistent between Intel...   \n",
              "10577                        How to get char** using C#?   \n",
              "\n",
              "                                             Title_clean  \\\n",
              "0                       access downloads folder android    \n",
              "1      s equivalent windows  queryperformancecounter ...   \n",
              "2      use hibernate criteria  way escape special cha...   \n",
              "3      possible create single multitype collection mu...   \n",
              "4       see output print statements scrapy logger enable   \n",
              "...                                                  ...   \n",
              "10573  list throws concurrentmodificationexception se...   \n",
              "10574  call local web service android mobile application   \n",
              "10575  resharper give csharp  code inspection warning...   \n",
              "10576      opengl fbo blitting inconsistent intel nvidia   \n",
              "10577                             get char   use csharp    \n",
              "\n",
              "                            Tags         0         1         2         3  \\\n",
              "0            ['java', 'android'] -0.008625  0.066267  0.059288  0.047522   \n",
              "1             ['c++', 'windows']  0.040289  0.002106 -0.033103  0.044113   \n",
              "2                       ['java'] -0.053190 -0.028141  0.006160 -0.011546   \n",
              "3                 ['c#', '.net']  0.024036 -0.051749  0.034761 -0.026690   \n",
              "4                     ['python']  0.069326  0.052986 -0.055654  0.015319   \n",
              "...                          ...       ...       ...       ...       ...   \n",
              "10573                   ['java']       NaN       NaN       NaN       NaN   \n",
              "10574        ['.net', 'android']       NaN       NaN       NaN       NaN   \n",
              "10575  ['c#', '.net', 'asp.net']       NaN       NaN       NaN       NaN   \n",
              "10576                   ['java']       NaN       NaN       NaN       NaN   \n",
              "10577                     ['c#']       NaN       NaN       NaN       NaN   \n",
              "\n",
              "              4         5         6  ...  isc#  isjava  isjavascript  \\\n",
              "0      0.012286  0.021743  0.037077  ...     0       1             0   \n",
              "1      0.067805 -0.055370 -0.024531  ...     0       0             0   \n",
              "2      0.055744  0.011479 -0.014696  ...     0       1             0   \n",
              "3      0.031129  0.065448 -0.007786  ...     1       0             0   \n",
              "4     -0.030124  0.054453 -0.025153  ...     0       0             0   \n",
              "...         ...       ...       ...  ...   ...     ...           ...   \n",
              "10573       NaN       NaN       NaN  ...     0       1             0   \n",
              "10574       NaN       NaN       NaN  ...     0       0             0   \n",
              "10575       NaN       NaN       NaN  ...     1       0             0   \n",
              "10576       NaN       NaN       NaN  ...     0       1             0   \n",
              "10577       NaN       NaN       NaN  ...     1       0             0   \n",
              "\n",
              "       ispython  isc++  isios  isandroid  is.net  ishtml  isphp  \n",
              "0             0      0      0          1       0       0      0  \n",
              "1             0      1      0          0       0       0      0  \n",
              "2             0      0      0          0       0       0      0  \n",
              "3             0      0      0          0       1       0      0  \n",
              "4             1      0      0          0       0       0      0  \n",
              "...         ...    ...    ...        ...     ...     ...    ...  \n",
              "10573         0      0      0          0       0       0      0  \n",
              "10574         0      0      0          1       1       0      0  \n",
              "10575         0      0      0          0       1       0      0  \n",
              "10576         0      0      0          0       0       0      0  \n",
              "10577         0      0      0          0       0       0      0  \n",
              "\n",
              "[10578 rows x 525 columns]"
            ],
            "text/html": [
              "\n",
              "  <div id=\"df-5640f50d-56f7-4cd8-bbd7-70de43231c5f\">\n",
              "    <div class=\"colab-df-container\">\n",
              "      <div>\n",
              "<style scoped>\n",
              "    .dataframe tbody tr th:only-of-type {\n",
              "        vertical-align: middle;\n",
              "    }\n",
              "\n",
              "    .dataframe tbody tr th {\n",
              "        vertical-align: top;\n",
              "    }\n",
              "\n",
              "    .dataframe thead th {\n",
              "        text-align: right;\n",
              "    }\n",
              "</style>\n",
              "<table border=\"1\" class=\"dataframe\">\n",
              "  <thead>\n",
              "    <tr style=\"text-align: right;\">\n",
              "      <th></th>\n",
              "      <th>Title</th>\n",
              "      <th>Title_clean</th>\n",
              "      <th>Tags</th>\n",
              "      <th>0</th>\n",
              "      <th>1</th>\n",
              "      <th>2</th>\n",
              "      <th>3</th>\n",
              "      <th>4</th>\n",
              "      <th>5</th>\n",
              "      <th>6</th>\n",
              "      <th>...</th>\n",
              "      <th>isc#</th>\n",
              "      <th>isjava</th>\n",
              "      <th>isjavascript</th>\n",
              "      <th>ispython</th>\n",
              "      <th>isc++</th>\n",
              "      <th>isios</th>\n",
              "      <th>isandroid</th>\n",
              "      <th>is.net</th>\n",
              "      <th>ishtml</th>\n",
              "      <th>isphp</th>\n",
              "    </tr>\n",
              "  </thead>\n",
              "  <tbody>\n",
              "    <tr>\n",
              "      <th>0</th>\n",
              "      <td>how to access downloads folder in android?</td>\n",
              "      <td>access downloads folder android</td>\n",
              "      <td>['java', 'android']</td>\n",
              "      <td>-0.008625</td>\n",
              "      <td>0.066267</td>\n",
              "      <td>0.059288</td>\n",
              "      <td>0.047522</td>\n",
              "      <td>0.012286</td>\n",
              "      <td>0.021743</td>\n",
              "      <td>0.037077</td>\n",
              "      <td>...</td>\n",
              "      <td>0</td>\n",
              "      <td>1</td>\n",
              "      <td>0</td>\n",
              "      <td>0</td>\n",
              "      <td>0</td>\n",
              "      <td>0</td>\n",
              "      <td>1</td>\n",
              "      <td>0</td>\n",
              "      <td>0</td>\n",
              "      <td>0</td>\n",
              "    </tr>\n",
              "    <tr>\n",
              "      <th>1</th>\n",
              "      <td>What's the equivalent of Windows' QueryPerform...</td>\n",
              "      <td>s equivalent windows  queryperformancecounter ...</td>\n",
              "      <td>['c++', 'windows']</td>\n",
              "      <td>0.040289</td>\n",
              "      <td>0.002106</td>\n",
              "      <td>-0.033103</td>\n",
              "      <td>0.044113</td>\n",
              "      <td>0.067805</td>\n",
              "      <td>-0.055370</td>\n",
              "      <td>-0.024531</td>\n",
              "      <td>...</td>\n",
              "      <td>0</td>\n",
              "      <td>0</td>\n",
              "      <td>0</td>\n",
              "      <td>0</td>\n",
              "      <td>1</td>\n",
              "      <td>0</td>\n",
              "      <td>0</td>\n",
              "      <td>0</td>\n",
              "      <td>0</td>\n",
              "      <td>0</td>\n",
              "    </tr>\n",
              "    <tr>\n",
              "      <th>2</th>\n",
              "      <td>Using hibernate criteria, is there a way to es...</td>\n",
              "      <td>use hibernate criteria  way escape special cha...</td>\n",
              "      <td>['java']</td>\n",
              "      <td>-0.053190</td>\n",
              "      <td>-0.028141</td>\n",
              "      <td>0.006160</td>\n",
              "      <td>-0.011546</td>\n",
              "      <td>0.055744</td>\n",
              "      <td>0.011479</td>\n",
              "      <td>-0.014696</td>\n",
              "      <td>...</td>\n",
              "      <td>0</td>\n",
              "      <td>1</td>\n",
              "      <td>0</td>\n",
              "      <td>0</td>\n",
              "      <td>0</td>\n",
              "      <td>0</td>\n",
              "      <td>0</td>\n",
              "      <td>0</td>\n",
              "      <td>0</td>\n",
              "      <td>0</td>\n",
              "    </tr>\n",
              "    <tr>\n",
              "      <th>3</th>\n",
              "      <td>Possible to create a single multi-type collect...</td>\n",
              "      <td>possible create single multitype collection mu...</td>\n",
              "      <td>['c#', '.net']</td>\n",
              "      <td>0.024036</td>\n",
              "      <td>-0.051749</td>\n",
              "      <td>0.034761</td>\n",
              "      <td>-0.026690</td>\n",
              "      <td>0.031129</td>\n",
              "      <td>0.065448</td>\n",
              "      <td>-0.007786</td>\n",
              "      <td>...</td>\n",
              "      <td>1</td>\n",
              "      <td>0</td>\n",
              "      <td>0</td>\n",
              "      <td>0</td>\n",
              "      <td>0</td>\n",
              "      <td>0</td>\n",
              "      <td>0</td>\n",
              "      <td>1</td>\n",
              "      <td>0</td>\n",
              "      <td>0</td>\n",
              "    </tr>\n",
              "    <tr>\n",
              "      <th>4</th>\n",
              "      <td>How to see output of print statements when scr...</td>\n",
              "      <td>see output print statements scrapy logger enable</td>\n",
              "      <td>['python']</td>\n",
              "      <td>0.069326</td>\n",
              "      <td>0.052986</td>\n",
              "      <td>-0.055654</td>\n",
              "      <td>0.015319</td>\n",
              "      <td>-0.030124</td>\n",
              "      <td>0.054453</td>\n",
              "      <td>-0.025153</td>\n",
              "      <td>...</td>\n",
              "      <td>0</td>\n",
              "      <td>0</td>\n",
              "      <td>0</td>\n",
              "      <td>1</td>\n",
              "      <td>0</td>\n",
              "      <td>0</td>\n",
              "      <td>0</td>\n",
              "      <td>0</td>\n",
              "      <td>0</td>\n",
              "      <td>0</td>\n",
              "    </tr>\n",
              "    <tr>\n",
              "      <th>...</th>\n",
              "      <td>...</td>\n",
              "      <td>...</td>\n",
              "      <td>...</td>\n",
              "      <td>...</td>\n",
              "      <td>...</td>\n",
              "      <td>...</td>\n",
              "      <td>...</td>\n",
              "      <td>...</td>\n",
              "      <td>...</td>\n",
              "      <td>...</td>\n",
              "      <td>...</td>\n",
              "      <td>...</td>\n",
              "      <td>...</td>\n",
              "      <td>...</td>\n",
              "      <td>...</td>\n",
              "      <td>...</td>\n",
              "      <td>...</td>\n",
              "      <td>...</td>\n",
              "      <td>...</td>\n",
              "      <td>...</td>\n",
              "      <td>...</td>\n",
              "    </tr>\n",
              "    <tr>\n",
              "      <th>10573</th>\n",
              "      <td>List throws ConcurrentModificationException bu...</td>\n",
              "      <td>list throws concurrentmodificationexception se...</td>\n",
              "      <td>['java']</td>\n",
              "      <td>NaN</td>\n",
              "      <td>NaN</td>\n",
              "      <td>NaN</td>\n",
              "      <td>NaN</td>\n",
              "      <td>NaN</td>\n",
              "      <td>NaN</td>\n",
              "      <td>NaN</td>\n",
              "      <td>...</td>\n",
              "      <td>0</td>\n",
              "      <td>1</td>\n",
              "      <td>0</td>\n",
              "      <td>0</td>\n",
              "      <td>0</td>\n",
              "      <td>0</td>\n",
              "      <td>0</td>\n",
              "      <td>0</td>\n",
              "      <td>0</td>\n",
              "      <td>0</td>\n",
              "    </tr>\n",
              "    <tr>\n",
              "      <th>10574</th>\n",
              "      <td>How to call a local web service from an Androi...</td>\n",
              "      <td>call local web service android mobile application</td>\n",
              "      <td>['.net', 'android']</td>\n",
              "      <td>NaN</td>\n",
              "      <td>NaN</td>\n",
              "      <td>NaN</td>\n",
              "      <td>NaN</td>\n",
              "      <td>NaN</td>\n",
              "      <td>NaN</td>\n",
              "      <td>NaN</td>\n",
              "      <td>...</td>\n",
              "      <td>0</td>\n",
              "      <td>0</td>\n",
              "      <td>0</td>\n",
              "      <td>0</td>\n",
              "      <td>0</td>\n",
              "      <td>0</td>\n",
              "      <td>1</td>\n",
              "      <td>1</td>\n",
              "      <td>0</td>\n",
              "      <td>0</td>\n",
              "    </tr>\n",
              "    <tr>\n",
              "      <th>10575</th>\n",
              "      <td>ReSharper giving C# 3.0 Code Inspection Warnin...</td>\n",
              "      <td>resharper give csharp  code inspection warning...</td>\n",
              "      <td>['c#', '.net', 'asp.net']</td>\n",
              "      <td>NaN</td>\n",
              "      <td>NaN</td>\n",
              "      <td>NaN</td>\n",
              "      <td>NaN</td>\n",
              "      <td>NaN</td>\n",
              "      <td>NaN</td>\n",
              "      <td>NaN</td>\n",
              "      <td>...</td>\n",
              "      <td>1</td>\n",
              "      <td>0</td>\n",
              "      <td>0</td>\n",
              "      <td>0</td>\n",
              "      <td>0</td>\n",
              "      <td>0</td>\n",
              "      <td>0</td>\n",
              "      <td>1</td>\n",
              "      <td>0</td>\n",
              "      <td>0</td>\n",
              "    </tr>\n",
              "    <tr>\n",
              "      <th>10576</th>\n",
              "      <td>OpenGL fbo blitting inconsistent between Intel...</td>\n",
              "      <td>opengl fbo blitting inconsistent intel nvidia</td>\n",
              "      <td>['java']</td>\n",
              "      <td>NaN</td>\n",
              "      <td>NaN</td>\n",
              "      <td>NaN</td>\n",
              "      <td>NaN</td>\n",
              "      <td>NaN</td>\n",
              "      <td>NaN</td>\n",
              "      <td>NaN</td>\n",
              "      <td>...</td>\n",
              "      <td>0</td>\n",
              "      <td>1</td>\n",
              "      <td>0</td>\n",
              "      <td>0</td>\n",
              "      <td>0</td>\n",
              "      <td>0</td>\n",
              "      <td>0</td>\n",
              "      <td>0</td>\n",
              "      <td>0</td>\n",
              "      <td>0</td>\n",
              "    </tr>\n",
              "    <tr>\n",
              "      <th>10577</th>\n",
              "      <td>How to get char** using C#?</td>\n",
              "      <td>get char   use csharp</td>\n",
              "      <td>['c#']</td>\n",
              "      <td>NaN</td>\n",
              "      <td>NaN</td>\n",
              "      <td>NaN</td>\n",
              "      <td>NaN</td>\n",
              "      <td>NaN</td>\n",
              "      <td>NaN</td>\n",
              "      <td>NaN</td>\n",
              "      <td>...</td>\n",
              "      <td>1</td>\n",
              "      <td>0</td>\n",
              "      <td>0</td>\n",
              "      <td>0</td>\n",
              "      <td>0</td>\n",
              "      <td>0</td>\n",
              "      <td>0</td>\n",
              "      <td>0</td>\n",
              "      <td>0</td>\n",
              "      <td>0</td>\n",
              "    </tr>\n",
              "  </tbody>\n",
              "</table>\n",
              "<p>10578 rows × 525 columns</p>\n",
              "</div>\n",
              "      <button class=\"colab-df-convert\" onclick=\"convertToInteractive('df-5640f50d-56f7-4cd8-bbd7-70de43231c5f')\"\n",
              "              title=\"Convert this dataframe to an interactive table.\"\n",
              "              style=\"display:none;\">\n",
              "        \n",
              "  <svg xmlns=\"http://www.w3.org/2000/svg\" height=\"24px\"viewBox=\"0 0 24 24\"\n",
              "       width=\"24px\">\n",
              "    <path d=\"M0 0h24v24H0V0z\" fill=\"none\"/>\n",
              "    <path d=\"M18.56 5.44l.94 2.06.94-2.06 2.06-.94-2.06-.94-.94-2.06-.94 2.06-2.06.94zm-11 1L8.5 8.5l.94-2.06 2.06-.94-2.06-.94L8.5 2.5l-.94 2.06-2.06.94zm10 10l.94 2.06.94-2.06 2.06-.94-2.06-.94-.94-2.06-.94 2.06-2.06.94z\"/><path d=\"M17.41 7.96l-1.37-1.37c-.4-.4-.92-.59-1.43-.59-.52 0-1.04.2-1.43.59L10.3 9.45l-7.72 7.72c-.78.78-.78 2.05 0 2.83L4 21.41c.39.39.9.59 1.41.59.51 0 1.02-.2 1.41-.59l7.78-7.78 2.81-2.81c.8-.78.8-2.07 0-2.86zM5.41 20L4 18.59l7.72-7.72 1.47 1.35L5.41 20z\"/>\n",
              "  </svg>\n",
              "      </button>\n",
              "      \n",
              "  <style>\n",
              "    .colab-df-container {\n",
              "      display:flex;\n",
              "      flex-wrap:wrap;\n",
              "      gap: 12px;\n",
              "    }\n",
              "\n",
              "    .colab-df-convert {\n",
              "      background-color: #E8F0FE;\n",
              "      border: none;\n",
              "      border-radius: 50%;\n",
              "      cursor: pointer;\n",
              "      display: none;\n",
              "      fill: #1967D2;\n",
              "      height: 32px;\n",
              "      padding: 0 0 0 0;\n",
              "      width: 32px;\n",
              "    }\n",
              "\n",
              "    .colab-df-convert:hover {\n",
              "      background-color: #E2EBFA;\n",
              "      box-shadow: 0px 1px 2px rgba(60, 64, 67, 0.3), 0px 1px 3px 1px rgba(60, 64, 67, 0.15);\n",
              "      fill: #174EA6;\n",
              "    }\n",
              "\n",
              "    [theme=dark] .colab-df-convert {\n",
              "      background-color: #3B4455;\n",
              "      fill: #D2E3FC;\n",
              "    }\n",
              "\n",
              "    [theme=dark] .colab-df-convert:hover {\n",
              "      background-color: #434B5C;\n",
              "      box-shadow: 0px 1px 3px 1px rgba(0, 0, 0, 0.15);\n",
              "      filter: drop-shadow(0px 1px 2px rgba(0, 0, 0, 0.3));\n",
              "      fill: #FFFFFF;\n",
              "    }\n",
              "  </style>\n",
              "\n",
              "      <script>\n",
              "        const buttonEl =\n",
              "          document.querySelector('#df-5640f50d-56f7-4cd8-bbd7-70de43231c5f button.colab-df-convert');\n",
              "        buttonEl.style.display =\n",
              "          google.colab.kernel.accessAllowed ? 'block' : 'none';\n",
              "\n",
              "        async function convertToInteractive(key) {\n",
              "          const element = document.querySelector('#df-5640f50d-56f7-4cd8-bbd7-70de43231c5f');\n",
              "          const dataTable =\n",
              "            await google.colab.kernel.invokeFunction('convertToInteractive',\n",
              "                                                     [key], {});\n",
              "          if (!dataTable) return;\n",
              "\n",
              "          const docLinkHtml = 'Like what you see? Visit the ' +\n",
              "            '<a target=\"_blank\" href=https://colab.research.google.com/notebooks/data_table.ipynb>data table notebook</a>'\n",
              "            + ' to learn more about interactive tables.';\n",
              "          element.innerHTML = '';\n",
              "          dataTable['output_type'] = 'display_data';\n",
              "          await google.colab.output.renderOutput(dataTable, element);\n",
              "          const docLink = document.createElement('div');\n",
              "          docLink.innerHTML = docLinkHtml;\n",
              "          element.appendChild(docLink);\n",
              "        }\n",
              "      </script>\n",
              "    </div>\n",
              "  </div>\n",
              "  "
            ]
          },
          "metadata": {},
          "execution_count": 86
        }
      ]
    },
    {
      "cell_type": "code",
      "source": [
        "X = data.iloc[:,3:-10]\n",
        "y = data.iloc[:,-10:]"
      ],
      "metadata": {
        "id": "oNCvrTh6PP3X"
      },
      "execution_count": 87,
      "outputs": []
    },
    {
      "cell_type": "code",
      "source": [
        "X = X[~X[0].isna()]\n",
        "y = y.iloc[X.index]"
      ],
      "metadata": {
        "id": "8hfRKB0HP7ix"
      },
      "execution_count": 88,
      "outputs": []
    },
    {
      "cell_type": "code",
      "source": [
        "X_train, X_test, y_train, y_test = train_test_split(X, y, test_size = 0.33, random_state = 42)"
      ],
      "metadata": {
        "id": "zAOVHZA8PwfJ"
      },
      "execution_count": 89,
      "outputs": []
    },
    {
      "cell_type": "code",
      "source": [
        "%%time\n",
        "mclr = MultiOutputClassifier(LogisticRegression(max_iter = 1000)).fit(X_train, y_train)"
      ],
      "metadata": {
        "colab": {
          "base_uri": "https://localhost:8080/"
        },
        "id": "J4BSWCKKPzjO",
        "outputId": "4157b80c-5336-4c93-85bc-4a7e2f951a3c"
      },
      "execution_count": 90,
      "outputs": [
        {
          "output_type": "stream",
          "name": "stdout",
          "text": [
            "CPU times: user 4.13 s, sys: 1.26 s, total: 5.39 s\n",
            "Wall time: 3.45 s\n"
          ]
        }
      ]
    },
    {
      "cell_type": "code",
      "source": [
        "mclr.score(X_train, y_train)"
      ],
      "metadata": {
        "colab": {
          "base_uri": "https://localhost:8080/"
        },
        "id": "lcwFKN2KP1FR",
        "outputId": "aab1ec94-42b5-4b00-ee01-619d701fb1c5"
      },
      "execution_count": 91,
      "outputs": [
        {
          "output_type": "execute_result",
          "data": {
            "text/plain": [
              "0.5352351362801864"
            ]
          },
          "metadata": {},
          "execution_count": 91
        }
      ]
    },
    {
      "cell_type": "code",
      "source": [
        "mclr.score(X_test, y_test)"
      ],
      "metadata": {
        "colab": {
          "base_uri": "https://localhost:8080/"
        },
        "id": "1DomobghTFSi",
        "outputId": "9b75d5ee-caa1-4629-bfc7-0a2c783f8d6b"
      },
      "execution_count": 92,
      "outputs": [
        {
          "output_type": "execute_result",
          "data": {
            "text/plain": [
              "0.5227858985382631"
            ]
          },
          "metadata": {},
          "execution_count": 92
        }
      ]
    },
    {
      "cell_type": "code",
      "source": [
        "jaccard_score(y_test, mclr.predict(X_test), average = 'micro')"
      ],
      "metadata": {
        "colab": {
          "base_uri": "https://localhost:8080/"
        },
        "id": "aqTV9NkfTG0d",
        "outputId": "ddd324f3-fe36-40aa-c372-3fcad989dc00"
      },
      "execution_count": 94,
      "outputs": [
        {
          "output_type": "execute_result",
          "data": {
            "text/plain": [
              "0.4939236111111111"
            ]
          },
          "metadata": {},
          "execution_count": 94
        }
      ]
    }
  ]
}